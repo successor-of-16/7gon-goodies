{
 "metadata": {
  "orig_nbformat": 4,
  "kernelspec": {
   "name": "sagemath-vscode",
   "display_name": "SageMath 9.2 for VSCode",
   "language": "python"
  },
  "language_info": {
   "name": "python",
   "version": "3.7.7",
   "mimetype": "text/x-python",
   "codemirror_mode": {
    "name": "ipython",
    "version": 3
   },
   "pygments_lexer": "ipython3",
   "nbconvert_exporter": "python",
   "file_extension": ".py"
  }
 },
 "nbformat": 4,
 "nbformat_minor": 2,
 "cells": [
  {
   "cell_type": "code",
   "execution_count": 1,
   "source": [
    "K = CyclotomicField(28)\r\n",
    "\r\n",
    "i = K.gen()^7 # == I\r\n",
    "j = K.gen()^4 # == e^(2*pi*i/7)\r\n",
    "\r\n",
    "# Симметричная точка\r\n",
    "def symm_dot(d: K, d_0: K) -> K:\r\n",
    "    return -d+2*d_0\r\n",
    "\r\n",
    "\r\n",
    "# С изменением этого множества и маленькими\r\n",
    "# изменениями везде по коду можно изучать внешние бильярды\r\n",
    "# вообще всех выпуклых многоугольников\r\n",
    "DOTS = [j^k for k in range(7)]\r\n",
    "\r\n",
    "\r\n",
    "# нормали всех прямых, ограничивающие области\r\n",
    "# а PEP 8 математикам не нужен\r\n",
    "NORMALS = {(dot0, dot1): (i*(DOTS[dot0]-DOTS[dot1])).conjugate() for dot0 in range(7) for dot1 in range(7)}\r\n",
    "\r\n",
    "\r\n",
    "# от значения это функции нужен только знак\r\n",
    "# от него зависит положение точки относительно прямой\r\n",
    "def hplane(dot0: K, dot1: K, dot: K):\r\n",
    "    n = NORMALS[(dot0, dot1)]\r\n",
    "    v = dot - DOTS[dot0]\r\n",
    "    return CLF(n*v)\r\n",
    "\r\n",
    "\r\n",
    "# DRY being not so horribly violated\r\n",
    "# отображение внешнего бильярда (o_uter b_illiard)\r\n",
    "def ob(dot: K) -> K:\r\n",
    "    for i in Zmod(7):\r\n",
    "        if hplane(i, i+1, dot) < 0 and hplane(i, i-1, dot) < 0:\r\n",
    "            return symm_dot(dot, DOTS[i])\r\n",
    "    raise NotImplementedError()\r\n",
    "\r\n",
    "\r\n",
    "# почти обратное отображение\r\n",
    "def ob_inv(dot: K) -> K:\r\n",
    "    x, y = dot\r\n",
    "    for i in Zmod(7):\r\n",
    "        if hplane(i, i+1, x, y) > 0 and hplane(i, i-1, x, y) > 0:\r\n",
    "            return symm_dot(dot, DOTS[i])\r\n",
    "    return dot # ob_inv is for drawing, and b dots have to be on the plot anyway\r\n",
    "\r\n",
    "\r\n",
    "# находит номер области, соответсвтующий номеру точки, относительно\r\n",
    "# которой отражает ob\r\n",
    "def locate_dot(dot: K):\r\n",
    "    x, y = dot\r\n",
    "    for i in Zmod(7):\r\n",
    "        if hplane(i, i+1, x, y) > 0 and hplane(i, i-1, x, y) > 0:\r\n",
    "            return f\"{i}\"\r\n",
    "    return \"B\"\r\n",
    "\r\n",
    "\r\n",
    "# генератор орбиты\r\n",
    "# лучше глянуть пример в examples.ipynb\r\n",
    "def orbit_ob(d: K, n):\r\n",
    "    for _ in range(n):\r\n",
    "        yield d\r\n",
    "        d = ob(d)\r\n",
    "\r\n",
    "\r\n",
    "# маршрут\r\n",
    "def trace_ob(d: K, n):\r\n",
    "    return \"\".join([locate_dot(i) for i in orbit(d, n)])\r\n",
    "\r\n",
    "\r\n",
    "def to_k(x, y) -> K:\r\n",
    "    return K(x) + i*K(y)\r\n",
    "\r\n",
    "def to_xy(dot: CC):\r\n",
    "    return (dot.real(), dot.imag())\r\n",
    "\r\n"
   ],
   "outputs": [],
   "metadata": {}
  },
  {
   "cell_type": "code",
   "execution_count": 2,
   "source": [
    "from time import time\n",
    "\n",
    "dot = to_k(1, -1.95)\n",
    "start = time()\n",
    "for i in range(10000):\n",
    "    dot = ob(dot)\n",
    "print(time() - start)"
   ],
   "outputs": [
    {
     "output_type": "stream",
     "name": "stdout",
     "text": [
      "108.78343439102173\n"
     ]
    }
   ],
   "metadata": {}
  },
  {
   "cell_type": "code",
   "execution_count": 49,
   "source": [
    "to_xy(CC(j/(j-1)))"
   ],
   "outputs": [
    {
     "output_type": "execute_result",
     "data": {
      "text/plain": [
       "(0.500000000000000, -1.03826069828617)"
      ]
     },
     "metadata": {},
     "execution_count": 49
    }
   ],
   "metadata": {}
  },
  {
   "cell_type": "code",
   "execution_count": 47,
   "source": [
    "start_dot = to_k(1, -1.95)\n",
    "dot = start_dot\n",
    "n = 1\n",
    "while True:\n",
    "    dot = ob(dot)\n",
    "    if dot == start_dot:\n",
    "        print(n)\n",
    "        break\n",
    "    else:\n",
    "        n += 1\n",
    "        if n % 10000 == 0:\n",
    "            print(n)"
   ],
   "outputs": [
    {
     "output_type": "stream",
     "name": "stdout",
     "text": [
      "10000\n",
      "20000\n",
      "30000\n",
      "40000\n",
      "50000\n",
      "60000\n",
      "70000\n",
      "80000\n",
      "90000\n",
      "100000\n",
      "110000\n",
      "120000\n",
      "130000\n",
      "140000\n",
      "150000\n",
      "160000\n",
      "170000\n",
      "180000\n",
      "190000\n",
      "200000\n",
      "210000\n",
      "220000\n",
      "230000\n",
      "240000\n",
      "250000\n",
      "260000\n",
      "270000\n",
      "280000\n",
      "290000\n",
      "300000\n",
      "310000\n",
      "320000\n",
      "330000\n",
      "340000\n",
      "350000\n",
      "360000\n",
      "370000\n",
      "380000\n",
      "390000\n",
      "400000\n",
      "410000\n",
      "420000\n",
      "430000\n",
      "440000\n",
      "450000\n",
      "460000\n",
      "470000\n",
      "480000\n",
      "490000\n",
      "500000\n",
      "510000\n",
      "520000\n",
      "530000\n",
      "540000\n",
      "550000\n",
      "560000\n",
      "570000\n",
      "580000\n",
      "590000\n",
      "600000\n",
      "610000\n",
      "620000\n",
      "630000\n",
      "640000\n",
      "650000\n",
      "660000\n",
      "670000\n",
      "680000\n",
      "690000\n",
      "700000\n",
      "710000\n",
      "720000\n",
      "730000\n",
      "740000\n",
      "750000\n",
      "760000\n",
      "770000\n",
      "780000\n",
      "790000\n",
      "800000\n",
      "810000\n",
      "820000\n",
      "830000\n",
      "840000\n",
      "850000\n",
      "860000\n",
      "870000\n",
      "880000\n",
      "890000\n",
      "900000\n",
      "910000\n",
      "920000\n",
      "930000\n",
      "940000\n",
      "950000\n",
      "960000\n",
      "970000\n",
      "980000\n",
      "990000\n",
      "1000000\n",
      "1010000\n",
      "1020000\n",
      "1030000\n",
      "1040000\n",
      "1050000\n",
      "1060000\n",
      "1070000\n",
      "1080000\n",
      "1090000\n",
      "1100000\n",
      "1110000\n",
      "1120000\n",
      "1130000\n",
      "1140000\n",
      "1150000\n",
      "1160000\n",
      "1170000\n",
      "1180000\n",
      "1190000\n",
      "1200000\n",
      "1210000\n",
      "1220000\n",
      "1230000\n",
      "1232042\n"
     ]
    }
   ],
   "metadata": {}
  },
  {
   "cell_type": "code",
   "execution_count": null,
   "source": [
    "from time import time\n",
    "\n",
    "start = time()\n",
    "dot = 4.04 + i*9.21\n",
    "for d in orbit_ob(K(4.04) + i*K(9.21), 1000000):\n",
    "\n"
   ],
   "outputs": [],
   "metadata": {}
  },
  {
   "cell_type": "code",
   "execution_count": 15,
   "source": [
    "K = CyclotomicField(28)\n",
    "\n",
    "i = K.gen()^7 # == I\n",
    "j = K.gen()^4 # == e^(2*pi*i/7)"
   ],
   "outputs": [],
   "metadata": {}
  },
  {
   "cell_type": "code",
   "execution_count": 29,
   "source": [
    "import matplotlib.pyplot as plt\n",
    "\n",
    "graph = list(map(lambda z: (CC(z).real(), CC(z).imag()), filter(lambda z: CLF(z) > 0, [x+i*y for x in [-1.0,-0.9,..,1.0] for y in [-1.0,-0.9,..,1.0]])))\n",
    "plt.scatter(*zip(*graph))\n",
    "plt.show() "
   ],
   "outputs": [
    {
     "output_type": "display_data",
     "data": {
      "text/plain": [
       "<Figure size 432x288 with 1 Axes>"
      ],
      "image/svg+xml": "<?xml version=\"1.0\" encoding=\"utf-8\" standalone=\"no\"?>\n<!DOCTYPE svg PUBLIC \"-//W3C//DTD SVG 1.1//EN\"\n  \"http://www.w3.org/Graphics/SVG/1.1/DTD/svg11.dtd\">\n<!-- Created with matplotlib (https://matplotlib.org/) -->\n<svg height=\"248.518125pt\" version=\"1.1\" viewBox=\"0 0 386.845312 248.518125\" width=\"386.845312pt\" xmlns=\"http://www.w3.org/2000/svg\" xmlns:xlink=\"http://www.w3.org/1999/xlink\">\n <metadata>\n  <rdf:RDF xmlns:cc=\"http://creativecommons.org/ns#\" xmlns:dc=\"http://purl.org/dc/elements/1.1/\" xmlns:rdf=\"http://www.w3.org/1999/02/22-rdf-syntax-ns#\">\n   <cc:Work>\n    <dc:type rdf:resource=\"http://purl.org/dc/dcmitype/StillImage\"/>\n    <dc:date>2021-07-20T03:11:27.282428</dc:date>\n    <dc:format>image/svg+xml</dc:format>\n    <dc:creator>\n     <cc:Agent>\n      <dc:title>Matplotlib v3.3.1, https://matplotlib.org/</dc:title>\n     </cc:Agent>\n    </dc:creator>\n   </cc:Work>\n  </rdf:RDF>\n </metadata>\n <defs>\n  <style type=\"text/css\">*{stroke-linecap:butt;stroke-linejoin:round;}</style>\n </defs>\n <g id=\"figure_1\">\n  <g id=\"patch_1\">\n   <path d=\"M 0 248.518125 \nL 386.845312 248.518125 \nL 386.845312 0 \nL 0 0 \nz\n\" style=\"fill:none;\"/>\n  </g>\n  <g id=\"axes_1\">\n   <g id=\"patch_2\">\n    <path d=\"M 44.845313 224.64 \nL 379.645313 224.64 \nL 379.645313 7.2 \nL 44.845313 7.2 \nz\n\" style=\"fill:#ffffff;\"/>\n   </g>\n   <g id=\"PathCollection_1\">\n    <defs>\n     <path d=\"M 0 3 \nC 0.795609 3 1.55874 2.683901 2.12132 2.12132 \nC 2.683901 1.55874 3 0.795609 3 0 \nC 3 -0.795609 2.683901 -1.55874 2.12132 -2.12132 \nC 1.55874 -2.683901 0.795609 -3 0 -3 \nC -0.795609 -3 -1.55874 -2.683901 -2.12132 -2.12132 \nC -2.683901 -1.55874 -3 -0.795609 -3 0 \nC -3 0.795609 -2.683901 1.55874 -2.12132 2.12132 \nC -1.55874 2.683901 -0.795609 3 0 3 \nz\n\" id=\"mdc006dc2d9\" style=\"stroke:#1f77b4;\"/>\n    </defs>\n    <g clip-path=\"url(#p6365a255ea)\">\n     <use style=\"fill:#1f77b4;stroke:#1f77b4;\" x=\"60.063494\" xlink:href=\"#mdc006dc2d9\" y=\"214.756364\"/>\n     <use style=\"fill:#1f77b4;stroke:#1f77b4;\" x=\"60.063494\" xlink:href=\"#mdc006dc2d9\" y=\"204.872727\"/>\n     <use style=\"fill:#1f77b4;stroke:#1f77b4;\" x=\"60.063494\" xlink:href=\"#mdc006dc2d9\" y=\"194.989091\"/>\n     <use style=\"fill:#1f77b4;stroke:#1f77b4;\" x=\"60.063494\" xlink:href=\"#mdc006dc2d9\" y=\"185.105455\"/>\n     <use style=\"fill:#1f77b4;stroke:#1f77b4;\" x=\"60.063494\" xlink:href=\"#mdc006dc2d9\" y=\"175.221818\"/>\n     <use style=\"fill:#1f77b4;stroke:#1f77b4;\" x=\"60.063494\" xlink:href=\"#mdc006dc2d9\" y=\"165.338182\"/>\n     <use style=\"fill:#1f77b4;stroke:#1f77b4;\" x=\"60.063494\" xlink:href=\"#mdc006dc2d9\" y=\"155.454545\"/>\n     <use style=\"fill:#1f77b4;stroke:#1f77b4;\" x=\"60.063494\" xlink:href=\"#mdc006dc2d9\" y=\"145.570909\"/>\n     <use style=\"fill:#1f77b4;stroke:#1f77b4;\" x=\"60.063494\" xlink:href=\"#mdc006dc2d9\" y=\"135.687273\"/>\n     <use style=\"fill:#1f77b4;stroke:#1f77b4;\" x=\"60.063494\" xlink:href=\"#mdc006dc2d9\" y=\"125.803636\"/>\n     <use style=\"fill:#1f77b4;stroke:#1f77b4;\" x=\"60.063494\" xlink:href=\"#mdc006dc2d9\" y=\"115.92\"/>\n     <use style=\"fill:#1f77b4;stroke:#1f77b4;\" x=\"60.063494\" xlink:href=\"#mdc006dc2d9\" y=\"106.036364\"/>\n     <use style=\"fill:#1f77b4;stroke:#1f77b4;\" x=\"60.063494\" xlink:href=\"#mdc006dc2d9\" y=\"96.152727\"/>\n     <use style=\"fill:#1f77b4;stroke:#1f77b4;\" x=\"60.063494\" xlink:href=\"#mdc006dc2d9\" y=\"86.269091\"/>\n     <use style=\"fill:#1f77b4;stroke:#1f77b4;\" x=\"60.063494\" xlink:href=\"#mdc006dc2d9\" y=\"76.385455\"/>\n     <use style=\"fill:#1f77b4;stroke:#1f77b4;\" x=\"60.063494\" xlink:href=\"#mdc006dc2d9\" y=\"66.501818\"/>\n     <use style=\"fill:#1f77b4;stroke:#1f77b4;\" x=\"60.063494\" xlink:href=\"#mdc006dc2d9\" y=\"56.618182\"/>\n     <use style=\"fill:#1f77b4;stroke:#1f77b4;\" x=\"60.063494\" xlink:href=\"#mdc006dc2d9\" y=\"46.734545\"/>\n     <use style=\"fill:#1f77b4;stroke:#1f77b4;\" x=\"60.063494\" xlink:href=\"#mdc006dc2d9\" y=\"36.850909\"/>\n     <use style=\"fill:#1f77b4;stroke:#1f77b4;\" x=\"60.063494\" xlink:href=\"#mdc006dc2d9\" y=\"26.967273\"/>\n     <use style=\"fill:#1f77b4;stroke:#1f77b4;\" x=\"60.063494\" xlink:href=\"#mdc006dc2d9\" y=\"17.083636\"/>\n     <use style=\"fill:#1f77b4;stroke:#1f77b4;\" x=\"93.881676\" xlink:href=\"#mdc006dc2d9\" y=\"214.756364\"/>\n     <use style=\"fill:#1f77b4;stroke:#1f77b4;\" x=\"93.881676\" xlink:href=\"#mdc006dc2d9\" y=\"204.872727\"/>\n     <use style=\"fill:#1f77b4;stroke:#1f77b4;\" x=\"93.881676\" xlink:href=\"#mdc006dc2d9\" y=\"194.989091\"/>\n     <use style=\"fill:#1f77b4;stroke:#1f77b4;\" x=\"93.881676\" xlink:href=\"#mdc006dc2d9\" y=\"185.105455\"/>\n     <use style=\"fill:#1f77b4;stroke:#1f77b4;\" x=\"93.881676\" xlink:href=\"#mdc006dc2d9\" y=\"175.221818\"/>\n     <use style=\"fill:#1f77b4;stroke:#1f77b4;\" x=\"93.881676\" xlink:href=\"#mdc006dc2d9\" y=\"165.338182\"/>\n     <use style=\"fill:#1f77b4;stroke:#1f77b4;\" x=\"93.881676\" xlink:href=\"#mdc006dc2d9\" y=\"155.454545\"/>\n     <use style=\"fill:#1f77b4;stroke:#1f77b4;\" x=\"93.881676\" xlink:href=\"#mdc006dc2d9\" y=\"145.570909\"/>\n     <use style=\"fill:#1f77b4;stroke:#1f77b4;\" x=\"93.881676\" xlink:href=\"#mdc006dc2d9\" y=\"135.687273\"/>\n     <use style=\"fill:#1f77b4;stroke:#1f77b4;\" x=\"93.881676\" xlink:href=\"#mdc006dc2d9\" y=\"125.803636\"/>\n     <use style=\"fill:#1f77b4;stroke:#1f77b4;\" x=\"93.881676\" xlink:href=\"#mdc006dc2d9\" y=\"115.92\"/>\n     <use style=\"fill:#1f77b4;stroke:#1f77b4;\" x=\"93.881676\" xlink:href=\"#mdc006dc2d9\" y=\"106.036364\"/>\n     <use style=\"fill:#1f77b4;stroke:#1f77b4;\" x=\"93.881676\" xlink:href=\"#mdc006dc2d9\" y=\"96.152727\"/>\n     <use style=\"fill:#1f77b4;stroke:#1f77b4;\" x=\"93.881676\" xlink:href=\"#mdc006dc2d9\" y=\"86.269091\"/>\n     <use style=\"fill:#1f77b4;stroke:#1f77b4;\" x=\"93.881676\" xlink:href=\"#mdc006dc2d9\" y=\"76.385455\"/>\n     <use style=\"fill:#1f77b4;stroke:#1f77b4;\" x=\"93.881676\" xlink:href=\"#mdc006dc2d9\" y=\"66.501818\"/>\n     <use style=\"fill:#1f77b4;stroke:#1f77b4;\" x=\"93.881676\" xlink:href=\"#mdc006dc2d9\" y=\"56.618182\"/>\n     <use style=\"fill:#1f77b4;stroke:#1f77b4;\" x=\"93.881676\" xlink:href=\"#mdc006dc2d9\" y=\"46.734545\"/>\n     <use style=\"fill:#1f77b4;stroke:#1f77b4;\" x=\"93.881676\" xlink:href=\"#mdc006dc2d9\" y=\"36.850909\"/>\n     <use style=\"fill:#1f77b4;stroke:#1f77b4;\" x=\"93.881676\" xlink:href=\"#mdc006dc2d9\" y=\"26.967273\"/>\n     <use style=\"fill:#1f77b4;stroke:#1f77b4;\" x=\"93.881676\" xlink:href=\"#mdc006dc2d9\" y=\"17.083636\"/>\n     <use style=\"fill:#1f77b4;stroke:#1f77b4;\" x=\"127.699858\" xlink:href=\"#mdc006dc2d9\" y=\"214.756364\"/>\n     <use style=\"fill:#1f77b4;stroke:#1f77b4;\" x=\"127.699858\" xlink:href=\"#mdc006dc2d9\" y=\"204.872727\"/>\n     <use style=\"fill:#1f77b4;stroke:#1f77b4;\" x=\"127.699858\" xlink:href=\"#mdc006dc2d9\" y=\"194.989091\"/>\n     <use style=\"fill:#1f77b4;stroke:#1f77b4;\" x=\"127.699858\" xlink:href=\"#mdc006dc2d9\" y=\"185.105455\"/>\n     <use style=\"fill:#1f77b4;stroke:#1f77b4;\" x=\"127.699858\" xlink:href=\"#mdc006dc2d9\" y=\"175.221818\"/>\n     <use style=\"fill:#1f77b4;stroke:#1f77b4;\" x=\"127.699858\" xlink:href=\"#mdc006dc2d9\" y=\"165.338182\"/>\n     <use style=\"fill:#1f77b4;stroke:#1f77b4;\" x=\"127.699858\" xlink:href=\"#mdc006dc2d9\" y=\"155.454545\"/>\n     <use style=\"fill:#1f77b4;stroke:#1f77b4;\" x=\"127.699858\" xlink:href=\"#mdc006dc2d9\" y=\"145.570909\"/>\n     <use style=\"fill:#1f77b4;stroke:#1f77b4;\" x=\"127.699858\" xlink:href=\"#mdc006dc2d9\" y=\"135.687273\"/>\n     <use style=\"fill:#1f77b4;stroke:#1f77b4;\" x=\"127.699858\" xlink:href=\"#mdc006dc2d9\" y=\"125.803636\"/>\n     <use style=\"fill:#1f77b4;stroke:#1f77b4;\" x=\"127.699858\" xlink:href=\"#mdc006dc2d9\" y=\"115.92\"/>\n     <use style=\"fill:#1f77b4;stroke:#1f77b4;\" x=\"127.699858\" xlink:href=\"#mdc006dc2d9\" y=\"106.036364\"/>\n     <use style=\"fill:#1f77b4;stroke:#1f77b4;\" x=\"127.699858\" xlink:href=\"#mdc006dc2d9\" y=\"96.152727\"/>\n     <use style=\"fill:#1f77b4;stroke:#1f77b4;\" x=\"127.699858\" xlink:href=\"#mdc006dc2d9\" y=\"86.269091\"/>\n     <use style=\"fill:#1f77b4;stroke:#1f77b4;\" x=\"127.699858\" xlink:href=\"#mdc006dc2d9\" y=\"76.385455\"/>\n     <use style=\"fill:#1f77b4;stroke:#1f77b4;\" x=\"127.699858\" xlink:href=\"#mdc006dc2d9\" y=\"66.501818\"/>\n     <use style=\"fill:#1f77b4;stroke:#1f77b4;\" x=\"127.699858\" xlink:href=\"#mdc006dc2d9\" y=\"56.618182\"/>\n     <use style=\"fill:#1f77b4;stroke:#1f77b4;\" x=\"127.699858\" xlink:href=\"#mdc006dc2d9\" y=\"46.734545\"/>\n     <use style=\"fill:#1f77b4;stroke:#1f77b4;\" x=\"127.699858\" xlink:href=\"#mdc006dc2d9\" y=\"36.850909\"/>\n     <use style=\"fill:#1f77b4;stroke:#1f77b4;\" x=\"127.699858\" xlink:href=\"#mdc006dc2d9\" y=\"26.967273\"/>\n     <use style=\"fill:#1f77b4;stroke:#1f77b4;\" x=\"127.699858\" xlink:href=\"#mdc006dc2d9\" y=\"17.083636\"/>\n     <use style=\"fill:#1f77b4;stroke:#1f77b4;\" x=\"161.51804\" xlink:href=\"#mdc006dc2d9\" y=\"214.756364\"/>\n     <use style=\"fill:#1f77b4;stroke:#1f77b4;\" x=\"161.51804\" xlink:href=\"#mdc006dc2d9\" y=\"204.872727\"/>\n     <use style=\"fill:#1f77b4;stroke:#1f77b4;\" x=\"161.51804\" xlink:href=\"#mdc006dc2d9\" y=\"194.989091\"/>\n     <use style=\"fill:#1f77b4;stroke:#1f77b4;\" x=\"161.51804\" xlink:href=\"#mdc006dc2d9\" y=\"185.105455\"/>\n     <use style=\"fill:#1f77b4;stroke:#1f77b4;\" x=\"161.51804\" xlink:href=\"#mdc006dc2d9\" y=\"175.221818\"/>\n     <use style=\"fill:#1f77b4;stroke:#1f77b4;\" x=\"161.51804\" xlink:href=\"#mdc006dc2d9\" y=\"165.338182\"/>\n     <use style=\"fill:#1f77b4;stroke:#1f77b4;\" x=\"161.51804\" xlink:href=\"#mdc006dc2d9\" y=\"155.454545\"/>\n     <use style=\"fill:#1f77b4;stroke:#1f77b4;\" x=\"161.51804\" xlink:href=\"#mdc006dc2d9\" y=\"145.570909\"/>\n     <use style=\"fill:#1f77b4;stroke:#1f77b4;\" x=\"161.51804\" xlink:href=\"#mdc006dc2d9\" y=\"135.687273\"/>\n     <use style=\"fill:#1f77b4;stroke:#1f77b4;\" x=\"161.51804\" xlink:href=\"#mdc006dc2d9\" y=\"125.803636\"/>\n     <use style=\"fill:#1f77b4;stroke:#1f77b4;\" x=\"161.51804\" xlink:href=\"#mdc006dc2d9\" y=\"115.92\"/>\n     <use style=\"fill:#1f77b4;stroke:#1f77b4;\" x=\"161.51804\" xlink:href=\"#mdc006dc2d9\" y=\"106.036364\"/>\n     <use style=\"fill:#1f77b4;stroke:#1f77b4;\" x=\"161.51804\" xlink:href=\"#mdc006dc2d9\" y=\"96.152727\"/>\n     <use style=\"fill:#1f77b4;stroke:#1f77b4;\" x=\"161.51804\" xlink:href=\"#mdc006dc2d9\" y=\"86.269091\"/>\n     <use style=\"fill:#1f77b4;stroke:#1f77b4;\" x=\"161.51804\" xlink:href=\"#mdc006dc2d9\" y=\"76.385455\"/>\n     <use style=\"fill:#1f77b4;stroke:#1f77b4;\" x=\"161.51804\" xlink:href=\"#mdc006dc2d9\" y=\"66.501818\"/>\n     <use style=\"fill:#1f77b4;stroke:#1f77b4;\" x=\"161.51804\" xlink:href=\"#mdc006dc2d9\" y=\"56.618182\"/>\n     <use style=\"fill:#1f77b4;stroke:#1f77b4;\" x=\"161.51804\" xlink:href=\"#mdc006dc2d9\" y=\"46.734545\"/>\n     <use style=\"fill:#1f77b4;stroke:#1f77b4;\" x=\"161.51804\" xlink:href=\"#mdc006dc2d9\" y=\"36.850909\"/>\n     <use style=\"fill:#1f77b4;stroke:#1f77b4;\" x=\"161.51804\" xlink:href=\"#mdc006dc2d9\" y=\"26.967273\"/>\n     <use style=\"fill:#1f77b4;stroke:#1f77b4;\" x=\"161.51804\" xlink:href=\"#mdc006dc2d9\" y=\"17.083636\"/>\n     <use style=\"fill:#1f77b4;stroke:#1f77b4;\" x=\"195.336222\" xlink:href=\"#mdc006dc2d9\" y=\"214.756364\"/>\n     <use style=\"fill:#1f77b4;stroke:#1f77b4;\" x=\"195.336222\" xlink:href=\"#mdc006dc2d9\" y=\"204.872727\"/>\n     <use style=\"fill:#1f77b4;stroke:#1f77b4;\" x=\"195.336222\" xlink:href=\"#mdc006dc2d9\" y=\"194.989091\"/>\n     <use style=\"fill:#1f77b4;stroke:#1f77b4;\" x=\"195.336222\" xlink:href=\"#mdc006dc2d9\" y=\"185.105455\"/>\n     <use style=\"fill:#1f77b4;stroke:#1f77b4;\" x=\"195.336222\" xlink:href=\"#mdc006dc2d9\" y=\"175.221818\"/>\n     <use style=\"fill:#1f77b4;stroke:#1f77b4;\" x=\"195.336222\" xlink:href=\"#mdc006dc2d9\" y=\"165.338182\"/>\n     <use style=\"fill:#1f77b4;stroke:#1f77b4;\" x=\"195.336222\" xlink:href=\"#mdc006dc2d9\" y=\"155.454545\"/>\n     <use style=\"fill:#1f77b4;stroke:#1f77b4;\" x=\"195.336222\" xlink:href=\"#mdc006dc2d9\" y=\"145.570909\"/>\n     <use style=\"fill:#1f77b4;stroke:#1f77b4;\" x=\"195.336222\" xlink:href=\"#mdc006dc2d9\" y=\"135.687273\"/>\n     <use style=\"fill:#1f77b4;stroke:#1f77b4;\" x=\"195.336222\" xlink:href=\"#mdc006dc2d9\" y=\"125.803636\"/>\n     <use style=\"fill:#1f77b4;stroke:#1f77b4;\" x=\"195.336222\" xlink:href=\"#mdc006dc2d9\" y=\"115.92\"/>\n     <use style=\"fill:#1f77b4;stroke:#1f77b4;\" x=\"195.336222\" xlink:href=\"#mdc006dc2d9\" y=\"106.036364\"/>\n     <use style=\"fill:#1f77b4;stroke:#1f77b4;\" x=\"195.336222\" xlink:href=\"#mdc006dc2d9\" y=\"96.152727\"/>\n     <use style=\"fill:#1f77b4;stroke:#1f77b4;\" x=\"195.336222\" xlink:href=\"#mdc006dc2d9\" y=\"86.269091\"/>\n     <use style=\"fill:#1f77b4;stroke:#1f77b4;\" x=\"195.336222\" xlink:href=\"#mdc006dc2d9\" y=\"76.385455\"/>\n     <use style=\"fill:#1f77b4;stroke:#1f77b4;\" x=\"195.336222\" xlink:href=\"#mdc006dc2d9\" y=\"66.501818\"/>\n     <use style=\"fill:#1f77b4;stroke:#1f77b4;\" x=\"195.336222\" xlink:href=\"#mdc006dc2d9\" y=\"56.618182\"/>\n     <use style=\"fill:#1f77b4;stroke:#1f77b4;\" x=\"195.336222\" xlink:href=\"#mdc006dc2d9\" y=\"46.734545\"/>\n     <use style=\"fill:#1f77b4;stroke:#1f77b4;\" x=\"195.336222\" xlink:href=\"#mdc006dc2d9\" y=\"36.850909\"/>\n     <use style=\"fill:#1f77b4;stroke:#1f77b4;\" x=\"195.336222\" xlink:href=\"#mdc006dc2d9\" y=\"26.967273\"/>\n     <use style=\"fill:#1f77b4;stroke:#1f77b4;\" x=\"195.336222\" xlink:href=\"#mdc006dc2d9\" y=\"17.083636\"/>\n     <use style=\"fill:#1f77b4;stroke:#1f77b4;\" x=\"229.154403\" xlink:href=\"#mdc006dc2d9\" y=\"214.756364\"/>\n     <use style=\"fill:#1f77b4;stroke:#1f77b4;\" x=\"229.154403\" xlink:href=\"#mdc006dc2d9\" y=\"204.872727\"/>\n     <use style=\"fill:#1f77b4;stroke:#1f77b4;\" x=\"229.154403\" xlink:href=\"#mdc006dc2d9\" y=\"194.989091\"/>\n     <use style=\"fill:#1f77b4;stroke:#1f77b4;\" x=\"229.154403\" xlink:href=\"#mdc006dc2d9\" y=\"185.105455\"/>\n     <use style=\"fill:#1f77b4;stroke:#1f77b4;\" x=\"229.154403\" xlink:href=\"#mdc006dc2d9\" y=\"175.221818\"/>\n     <use style=\"fill:#1f77b4;stroke:#1f77b4;\" x=\"229.154403\" xlink:href=\"#mdc006dc2d9\" y=\"165.338182\"/>\n     <use style=\"fill:#1f77b4;stroke:#1f77b4;\" x=\"229.154403\" xlink:href=\"#mdc006dc2d9\" y=\"155.454545\"/>\n     <use style=\"fill:#1f77b4;stroke:#1f77b4;\" x=\"229.154403\" xlink:href=\"#mdc006dc2d9\" y=\"145.570909\"/>\n     <use style=\"fill:#1f77b4;stroke:#1f77b4;\" x=\"229.154403\" xlink:href=\"#mdc006dc2d9\" y=\"135.687273\"/>\n     <use style=\"fill:#1f77b4;stroke:#1f77b4;\" x=\"229.154403\" xlink:href=\"#mdc006dc2d9\" y=\"125.803636\"/>\n     <use style=\"fill:#1f77b4;stroke:#1f77b4;\" x=\"229.154403\" xlink:href=\"#mdc006dc2d9\" y=\"115.92\"/>\n     <use style=\"fill:#1f77b4;stroke:#1f77b4;\" x=\"229.154403\" xlink:href=\"#mdc006dc2d9\" y=\"106.036364\"/>\n     <use style=\"fill:#1f77b4;stroke:#1f77b4;\" x=\"229.154403\" xlink:href=\"#mdc006dc2d9\" y=\"96.152727\"/>\n     <use style=\"fill:#1f77b4;stroke:#1f77b4;\" x=\"229.154403\" xlink:href=\"#mdc006dc2d9\" y=\"86.269091\"/>\n     <use style=\"fill:#1f77b4;stroke:#1f77b4;\" x=\"229.154403\" xlink:href=\"#mdc006dc2d9\" y=\"76.385455\"/>\n     <use style=\"fill:#1f77b4;stroke:#1f77b4;\" x=\"229.154403\" xlink:href=\"#mdc006dc2d9\" y=\"66.501818\"/>\n     <use style=\"fill:#1f77b4;stroke:#1f77b4;\" x=\"229.154403\" xlink:href=\"#mdc006dc2d9\" y=\"56.618182\"/>\n     <use style=\"fill:#1f77b4;stroke:#1f77b4;\" x=\"229.154403\" xlink:href=\"#mdc006dc2d9\" y=\"46.734545\"/>\n     <use style=\"fill:#1f77b4;stroke:#1f77b4;\" x=\"229.154403\" xlink:href=\"#mdc006dc2d9\" y=\"36.850909\"/>\n     <use style=\"fill:#1f77b4;stroke:#1f77b4;\" x=\"229.154403\" xlink:href=\"#mdc006dc2d9\" y=\"26.967273\"/>\n     <use style=\"fill:#1f77b4;stroke:#1f77b4;\" x=\"229.154403\" xlink:href=\"#mdc006dc2d9\" y=\"17.083636\"/>\n     <use style=\"fill:#1f77b4;stroke:#1f77b4;\" x=\"262.972585\" xlink:href=\"#mdc006dc2d9\" y=\"214.756364\"/>\n     <use style=\"fill:#1f77b4;stroke:#1f77b4;\" x=\"262.972585\" xlink:href=\"#mdc006dc2d9\" y=\"204.872727\"/>\n     <use style=\"fill:#1f77b4;stroke:#1f77b4;\" x=\"262.972585\" xlink:href=\"#mdc006dc2d9\" y=\"194.989091\"/>\n     <use style=\"fill:#1f77b4;stroke:#1f77b4;\" x=\"262.972585\" xlink:href=\"#mdc006dc2d9\" y=\"185.105455\"/>\n     <use style=\"fill:#1f77b4;stroke:#1f77b4;\" x=\"262.972585\" xlink:href=\"#mdc006dc2d9\" y=\"175.221818\"/>\n     <use style=\"fill:#1f77b4;stroke:#1f77b4;\" x=\"262.972585\" xlink:href=\"#mdc006dc2d9\" y=\"165.338182\"/>\n     <use style=\"fill:#1f77b4;stroke:#1f77b4;\" x=\"262.972585\" xlink:href=\"#mdc006dc2d9\" y=\"155.454545\"/>\n     <use style=\"fill:#1f77b4;stroke:#1f77b4;\" x=\"262.972585\" xlink:href=\"#mdc006dc2d9\" y=\"145.570909\"/>\n     <use style=\"fill:#1f77b4;stroke:#1f77b4;\" x=\"262.972585\" xlink:href=\"#mdc006dc2d9\" y=\"135.687273\"/>\n     <use style=\"fill:#1f77b4;stroke:#1f77b4;\" x=\"262.972585\" xlink:href=\"#mdc006dc2d9\" y=\"125.803636\"/>\n     <use style=\"fill:#1f77b4;stroke:#1f77b4;\" x=\"262.972585\" xlink:href=\"#mdc006dc2d9\" y=\"115.92\"/>\n     <use style=\"fill:#1f77b4;stroke:#1f77b4;\" x=\"262.972585\" xlink:href=\"#mdc006dc2d9\" y=\"106.036364\"/>\n     <use style=\"fill:#1f77b4;stroke:#1f77b4;\" x=\"262.972585\" xlink:href=\"#mdc006dc2d9\" y=\"96.152727\"/>\n     <use style=\"fill:#1f77b4;stroke:#1f77b4;\" x=\"262.972585\" xlink:href=\"#mdc006dc2d9\" y=\"86.269091\"/>\n     <use style=\"fill:#1f77b4;stroke:#1f77b4;\" x=\"262.972585\" xlink:href=\"#mdc006dc2d9\" y=\"76.385455\"/>\n     <use style=\"fill:#1f77b4;stroke:#1f77b4;\" x=\"262.972585\" xlink:href=\"#mdc006dc2d9\" y=\"66.501818\"/>\n     <use style=\"fill:#1f77b4;stroke:#1f77b4;\" x=\"262.972585\" xlink:href=\"#mdc006dc2d9\" y=\"56.618182\"/>\n     <use style=\"fill:#1f77b4;stroke:#1f77b4;\" x=\"262.972585\" xlink:href=\"#mdc006dc2d9\" y=\"46.734545\"/>\n     <use style=\"fill:#1f77b4;stroke:#1f77b4;\" x=\"262.972585\" xlink:href=\"#mdc006dc2d9\" y=\"36.850909\"/>\n     <use style=\"fill:#1f77b4;stroke:#1f77b4;\" x=\"262.972585\" xlink:href=\"#mdc006dc2d9\" y=\"26.967273\"/>\n     <use style=\"fill:#1f77b4;stroke:#1f77b4;\" x=\"262.972585\" xlink:href=\"#mdc006dc2d9\" y=\"17.083636\"/>\n     <use style=\"fill:#1f77b4;stroke:#1f77b4;\" x=\"296.790767\" xlink:href=\"#mdc006dc2d9\" y=\"214.756364\"/>\n     <use style=\"fill:#1f77b4;stroke:#1f77b4;\" x=\"296.790767\" xlink:href=\"#mdc006dc2d9\" y=\"204.872727\"/>\n     <use style=\"fill:#1f77b4;stroke:#1f77b4;\" x=\"296.790767\" xlink:href=\"#mdc006dc2d9\" y=\"194.989091\"/>\n     <use style=\"fill:#1f77b4;stroke:#1f77b4;\" x=\"296.790767\" xlink:href=\"#mdc006dc2d9\" y=\"185.105455\"/>\n     <use style=\"fill:#1f77b4;stroke:#1f77b4;\" x=\"296.790767\" xlink:href=\"#mdc006dc2d9\" y=\"175.221818\"/>\n     <use style=\"fill:#1f77b4;stroke:#1f77b4;\" x=\"296.790767\" xlink:href=\"#mdc006dc2d9\" y=\"165.338182\"/>\n     <use style=\"fill:#1f77b4;stroke:#1f77b4;\" x=\"296.790767\" xlink:href=\"#mdc006dc2d9\" y=\"155.454545\"/>\n     <use style=\"fill:#1f77b4;stroke:#1f77b4;\" x=\"296.790767\" xlink:href=\"#mdc006dc2d9\" y=\"145.570909\"/>\n     <use style=\"fill:#1f77b4;stroke:#1f77b4;\" x=\"296.790767\" xlink:href=\"#mdc006dc2d9\" y=\"135.687273\"/>\n     <use style=\"fill:#1f77b4;stroke:#1f77b4;\" x=\"296.790767\" xlink:href=\"#mdc006dc2d9\" y=\"125.803636\"/>\n     <use style=\"fill:#1f77b4;stroke:#1f77b4;\" x=\"296.790767\" xlink:href=\"#mdc006dc2d9\" y=\"115.92\"/>\n     <use style=\"fill:#1f77b4;stroke:#1f77b4;\" x=\"296.790767\" xlink:href=\"#mdc006dc2d9\" y=\"106.036364\"/>\n     <use style=\"fill:#1f77b4;stroke:#1f77b4;\" x=\"296.790767\" xlink:href=\"#mdc006dc2d9\" y=\"96.152727\"/>\n     <use style=\"fill:#1f77b4;stroke:#1f77b4;\" x=\"296.790767\" xlink:href=\"#mdc006dc2d9\" y=\"86.269091\"/>\n     <use style=\"fill:#1f77b4;stroke:#1f77b4;\" x=\"296.790767\" xlink:href=\"#mdc006dc2d9\" y=\"76.385455\"/>\n     <use style=\"fill:#1f77b4;stroke:#1f77b4;\" x=\"296.790767\" xlink:href=\"#mdc006dc2d9\" y=\"66.501818\"/>\n     <use style=\"fill:#1f77b4;stroke:#1f77b4;\" x=\"296.790767\" xlink:href=\"#mdc006dc2d9\" y=\"56.618182\"/>\n     <use style=\"fill:#1f77b4;stroke:#1f77b4;\" x=\"296.790767\" xlink:href=\"#mdc006dc2d9\" y=\"46.734545\"/>\n     <use style=\"fill:#1f77b4;stroke:#1f77b4;\" x=\"296.790767\" xlink:href=\"#mdc006dc2d9\" y=\"36.850909\"/>\n     <use style=\"fill:#1f77b4;stroke:#1f77b4;\" x=\"296.790767\" xlink:href=\"#mdc006dc2d9\" y=\"26.967273\"/>\n     <use style=\"fill:#1f77b4;stroke:#1f77b4;\" x=\"296.790767\" xlink:href=\"#mdc006dc2d9\" y=\"17.083636\"/>\n     <use style=\"fill:#1f77b4;stroke:#1f77b4;\" x=\"330.608949\" xlink:href=\"#mdc006dc2d9\" y=\"214.756364\"/>\n     <use style=\"fill:#1f77b4;stroke:#1f77b4;\" x=\"330.608949\" xlink:href=\"#mdc006dc2d9\" y=\"204.872727\"/>\n     <use style=\"fill:#1f77b4;stroke:#1f77b4;\" x=\"330.608949\" xlink:href=\"#mdc006dc2d9\" y=\"194.989091\"/>\n     <use style=\"fill:#1f77b4;stroke:#1f77b4;\" x=\"330.608949\" xlink:href=\"#mdc006dc2d9\" y=\"185.105455\"/>\n     <use style=\"fill:#1f77b4;stroke:#1f77b4;\" x=\"330.608949\" xlink:href=\"#mdc006dc2d9\" y=\"175.221818\"/>\n     <use style=\"fill:#1f77b4;stroke:#1f77b4;\" x=\"330.608949\" xlink:href=\"#mdc006dc2d9\" y=\"165.338182\"/>\n     <use style=\"fill:#1f77b4;stroke:#1f77b4;\" x=\"330.608949\" xlink:href=\"#mdc006dc2d9\" y=\"155.454545\"/>\n     <use style=\"fill:#1f77b4;stroke:#1f77b4;\" x=\"330.608949\" xlink:href=\"#mdc006dc2d9\" y=\"145.570909\"/>\n     <use style=\"fill:#1f77b4;stroke:#1f77b4;\" x=\"330.608949\" xlink:href=\"#mdc006dc2d9\" y=\"135.687273\"/>\n     <use style=\"fill:#1f77b4;stroke:#1f77b4;\" x=\"330.608949\" xlink:href=\"#mdc006dc2d9\" y=\"125.803636\"/>\n     <use style=\"fill:#1f77b4;stroke:#1f77b4;\" x=\"330.608949\" xlink:href=\"#mdc006dc2d9\" y=\"115.92\"/>\n     <use style=\"fill:#1f77b4;stroke:#1f77b4;\" x=\"330.608949\" xlink:href=\"#mdc006dc2d9\" y=\"106.036364\"/>\n     <use style=\"fill:#1f77b4;stroke:#1f77b4;\" x=\"330.608949\" xlink:href=\"#mdc006dc2d9\" y=\"96.152727\"/>\n     <use style=\"fill:#1f77b4;stroke:#1f77b4;\" x=\"330.608949\" xlink:href=\"#mdc006dc2d9\" y=\"86.269091\"/>\n     <use style=\"fill:#1f77b4;stroke:#1f77b4;\" x=\"330.608949\" xlink:href=\"#mdc006dc2d9\" y=\"76.385455\"/>\n     <use style=\"fill:#1f77b4;stroke:#1f77b4;\" x=\"330.608949\" xlink:href=\"#mdc006dc2d9\" y=\"66.501818\"/>\n     <use style=\"fill:#1f77b4;stroke:#1f77b4;\" x=\"330.608949\" xlink:href=\"#mdc006dc2d9\" y=\"56.618182\"/>\n     <use style=\"fill:#1f77b4;stroke:#1f77b4;\" x=\"330.608949\" xlink:href=\"#mdc006dc2d9\" y=\"46.734545\"/>\n     <use style=\"fill:#1f77b4;stroke:#1f77b4;\" x=\"330.608949\" xlink:href=\"#mdc006dc2d9\" y=\"36.850909\"/>\n     <use style=\"fill:#1f77b4;stroke:#1f77b4;\" x=\"330.608949\" xlink:href=\"#mdc006dc2d9\" y=\"26.967273\"/>\n     <use style=\"fill:#1f77b4;stroke:#1f77b4;\" x=\"330.608949\" xlink:href=\"#mdc006dc2d9\" y=\"17.083636\"/>\n     <use style=\"fill:#1f77b4;stroke:#1f77b4;\" x=\"364.427131\" xlink:href=\"#mdc006dc2d9\" y=\"214.756364\"/>\n     <use style=\"fill:#1f77b4;stroke:#1f77b4;\" x=\"364.427131\" xlink:href=\"#mdc006dc2d9\" y=\"204.872727\"/>\n     <use style=\"fill:#1f77b4;stroke:#1f77b4;\" x=\"364.427131\" xlink:href=\"#mdc006dc2d9\" y=\"194.989091\"/>\n     <use style=\"fill:#1f77b4;stroke:#1f77b4;\" x=\"364.427131\" xlink:href=\"#mdc006dc2d9\" y=\"185.105455\"/>\n     <use style=\"fill:#1f77b4;stroke:#1f77b4;\" x=\"364.427131\" xlink:href=\"#mdc006dc2d9\" y=\"175.221818\"/>\n     <use style=\"fill:#1f77b4;stroke:#1f77b4;\" x=\"364.427131\" xlink:href=\"#mdc006dc2d9\" y=\"165.338182\"/>\n     <use style=\"fill:#1f77b4;stroke:#1f77b4;\" x=\"364.427131\" xlink:href=\"#mdc006dc2d9\" y=\"155.454545\"/>\n     <use style=\"fill:#1f77b4;stroke:#1f77b4;\" x=\"364.427131\" xlink:href=\"#mdc006dc2d9\" y=\"145.570909\"/>\n     <use style=\"fill:#1f77b4;stroke:#1f77b4;\" x=\"364.427131\" xlink:href=\"#mdc006dc2d9\" y=\"135.687273\"/>\n     <use style=\"fill:#1f77b4;stroke:#1f77b4;\" x=\"364.427131\" xlink:href=\"#mdc006dc2d9\" y=\"125.803636\"/>\n     <use style=\"fill:#1f77b4;stroke:#1f77b4;\" x=\"364.427131\" xlink:href=\"#mdc006dc2d9\" y=\"115.92\"/>\n     <use style=\"fill:#1f77b4;stroke:#1f77b4;\" x=\"364.427131\" xlink:href=\"#mdc006dc2d9\" y=\"106.036364\"/>\n     <use style=\"fill:#1f77b4;stroke:#1f77b4;\" x=\"364.427131\" xlink:href=\"#mdc006dc2d9\" y=\"96.152727\"/>\n     <use style=\"fill:#1f77b4;stroke:#1f77b4;\" x=\"364.427131\" xlink:href=\"#mdc006dc2d9\" y=\"86.269091\"/>\n     <use style=\"fill:#1f77b4;stroke:#1f77b4;\" x=\"364.427131\" xlink:href=\"#mdc006dc2d9\" y=\"76.385455\"/>\n     <use style=\"fill:#1f77b4;stroke:#1f77b4;\" x=\"364.427131\" xlink:href=\"#mdc006dc2d9\" y=\"66.501818\"/>\n     <use style=\"fill:#1f77b4;stroke:#1f77b4;\" x=\"364.427131\" xlink:href=\"#mdc006dc2d9\" y=\"56.618182\"/>\n     <use style=\"fill:#1f77b4;stroke:#1f77b4;\" x=\"364.427131\" xlink:href=\"#mdc006dc2d9\" y=\"46.734545\"/>\n     <use style=\"fill:#1f77b4;stroke:#1f77b4;\" x=\"364.427131\" xlink:href=\"#mdc006dc2d9\" y=\"36.850909\"/>\n     <use style=\"fill:#1f77b4;stroke:#1f77b4;\" x=\"364.427131\" xlink:href=\"#mdc006dc2d9\" y=\"26.967273\"/>\n     <use style=\"fill:#1f77b4;stroke:#1f77b4;\" x=\"364.427131\" xlink:href=\"#mdc006dc2d9\" y=\"17.083636\"/>\n    </g>\n   </g>\n   <g id=\"matplotlib.axis_1\">\n    <g id=\"xtick_1\">\n     <g id=\"line2d_1\">\n      <defs>\n       <path d=\"M 0 0 \nL 0 3.5 \n\" id=\"m2d5cde5acb\" style=\"stroke:#000000;stroke-width:0.8;\"/>\n      </defs>\n      <g>\n       <use style=\"stroke:#000000;stroke-width:0.8;\" x=\"93.881676\" xlink:href=\"#m2d5cde5acb\" y=\"224.64\"/>\n      </g>\n     </g>\n     <g id=\"text_1\">\n      <!-- 0.2 -->\n      <g transform=\"translate(85.930114 239.238437)scale(0.1 -0.1)\">\n       <defs>\n        <path d=\"M 31.78125 66.40625 \nQ 24.171875 66.40625 20.328125 58.90625 \nQ 16.5 51.421875 16.5 36.375 \nQ 16.5 21.390625 20.328125 13.890625 \nQ 24.171875 6.390625 31.78125 6.390625 \nQ 39.453125 6.390625 43.28125 13.890625 \nQ 47.125 21.390625 47.125 36.375 \nQ 47.125 51.421875 43.28125 58.90625 \nQ 39.453125 66.40625 31.78125 66.40625 \nz\nM 31.78125 74.21875 \nQ 44.046875 74.21875 50.515625 64.515625 \nQ 56.984375 54.828125 56.984375 36.375 \nQ 56.984375 17.96875 50.515625 8.265625 \nQ 44.046875 -1.421875 31.78125 -1.421875 \nQ 19.53125 -1.421875 13.0625 8.265625 \nQ 6.59375 17.96875 6.59375 36.375 \nQ 6.59375 54.828125 13.0625 64.515625 \nQ 19.53125 74.21875 31.78125 74.21875 \nz\n\" id=\"DejaVuSans-48\"/>\n        <path d=\"M 10.6875 12.40625 \nL 21 12.40625 \nL 21 0 \nL 10.6875 0 \nz\n\" id=\"DejaVuSans-46\"/>\n        <path d=\"M 19.1875 8.296875 \nL 53.609375 8.296875 \nL 53.609375 0 \nL 7.328125 0 \nL 7.328125 8.296875 \nQ 12.9375 14.109375 22.625 23.890625 \nQ 32.328125 33.6875 34.8125 36.53125 \nQ 39.546875 41.84375 41.421875 45.53125 \nQ 43.3125 49.21875 43.3125 52.78125 \nQ 43.3125 58.59375 39.234375 62.25 \nQ 35.15625 65.921875 28.609375 65.921875 \nQ 23.96875 65.921875 18.8125 64.3125 \nQ 13.671875 62.703125 7.8125 59.421875 \nL 7.8125 69.390625 \nQ 13.765625 71.78125 18.9375 73 \nQ 24.125 74.21875 28.421875 74.21875 \nQ 39.75 74.21875 46.484375 68.546875 \nQ 53.21875 62.890625 53.21875 53.421875 \nQ 53.21875 48.921875 51.53125 44.890625 \nQ 49.859375 40.875 45.40625 35.40625 \nQ 44.1875 33.984375 37.640625 27.21875 \nQ 31.109375 20.453125 19.1875 8.296875 \nz\n\" id=\"DejaVuSans-50\"/>\n       </defs>\n       <use xlink:href=\"#DejaVuSans-48\"/>\n       <use x=\"63.623047\" xlink:href=\"#DejaVuSans-46\"/>\n       <use x=\"95.410156\" xlink:href=\"#DejaVuSans-50\"/>\n      </g>\n     </g>\n    </g>\n    <g id=\"xtick_2\">\n     <g id=\"line2d_2\">\n      <g>\n       <use style=\"stroke:#000000;stroke-width:0.8;\" x=\"161.51804\" xlink:href=\"#m2d5cde5acb\" y=\"224.64\"/>\n      </g>\n     </g>\n     <g id=\"text_2\">\n      <!-- 0.4 -->\n      <g transform=\"translate(153.566477 239.238437)scale(0.1 -0.1)\">\n       <defs>\n        <path d=\"M 37.796875 64.3125 \nL 12.890625 25.390625 \nL 37.796875 25.390625 \nz\nM 35.203125 72.90625 \nL 47.609375 72.90625 \nL 47.609375 25.390625 \nL 58.015625 25.390625 \nL 58.015625 17.1875 \nL 47.609375 17.1875 \nL 47.609375 0 \nL 37.796875 0 \nL 37.796875 17.1875 \nL 4.890625 17.1875 \nL 4.890625 26.703125 \nz\n\" id=\"DejaVuSans-52\"/>\n       </defs>\n       <use xlink:href=\"#DejaVuSans-48\"/>\n       <use x=\"63.623047\" xlink:href=\"#DejaVuSans-46\"/>\n       <use x=\"95.410156\" xlink:href=\"#DejaVuSans-52\"/>\n      </g>\n     </g>\n    </g>\n    <g id=\"xtick_3\">\n     <g id=\"line2d_3\">\n      <g>\n       <use style=\"stroke:#000000;stroke-width:0.8;\" x=\"229.154403\" xlink:href=\"#m2d5cde5acb\" y=\"224.64\"/>\n      </g>\n     </g>\n     <g id=\"text_3\">\n      <!-- 0.6 -->\n      <g transform=\"translate(221.202841 239.238437)scale(0.1 -0.1)\">\n       <defs>\n        <path d=\"M 33.015625 40.375 \nQ 26.375 40.375 22.484375 35.828125 \nQ 18.609375 31.296875 18.609375 23.390625 \nQ 18.609375 15.53125 22.484375 10.953125 \nQ 26.375 6.390625 33.015625 6.390625 \nQ 39.65625 6.390625 43.53125 10.953125 \nQ 47.40625 15.53125 47.40625 23.390625 \nQ 47.40625 31.296875 43.53125 35.828125 \nQ 39.65625 40.375 33.015625 40.375 \nz\nM 52.59375 71.296875 \nL 52.59375 62.3125 \nQ 48.875 64.0625 45.09375 64.984375 \nQ 41.3125 65.921875 37.59375 65.921875 \nQ 27.828125 65.921875 22.671875 59.328125 \nQ 17.53125 52.734375 16.796875 39.40625 \nQ 19.671875 43.65625 24.015625 45.921875 \nQ 28.375 48.1875 33.59375 48.1875 \nQ 44.578125 48.1875 50.953125 41.515625 \nQ 57.328125 34.859375 57.328125 23.390625 \nQ 57.328125 12.15625 50.6875 5.359375 \nQ 44.046875 -1.421875 33.015625 -1.421875 \nQ 20.359375 -1.421875 13.671875 8.265625 \nQ 6.984375 17.96875 6.984375 36.375 \nQ 6.984375 53.65625 15.1875 63.9375 \nQ 23.390625 74.21875 37.203125 74.21875 \nQ 40.921875 74.21875 44.703125 73.484375 \nQ 48.484375 72.75 52.59375 71.296875 \nz\n\" id=\"DejaVuSans-54\"/>\n       </defs>\n       <use xlink:href=\"#DejaVuSans-48\"/>\n       <use x=\"63.623047\" xlink:href=\"#DejaVuSans-46\"/>\n       <use x=\"95.410156\" xlink:href=\"#DejaVuSans-54\"/>\n      </g>\n     </g>\n    </g>\n    <g id=\"xtick_4\">\n     <g id=\"line2d_4\">\n      <g>\n       <use style=\"stroke:#000000;stroke-width:0.8;\" x=\"296.790767\" xlink:href=\"#m2d5cde5acb\" y=\"224.64\"/>\n      </g>\n     </g>\n     <g id=\"text_4\">\n      <!-- 0.8 -->\n      <g transform=\"translate(288.839205 239.238437)scale(0.1 -0.1)\">\n       <defs>\n        <path d=\"M 31.78125 34.625 \nQ 24.75 34.625 20.71875 30.859375 \nQ 16.703125 27.09375 16.703125 20.515625 \nQ 16.703125 13.921875 20.71875 10.15625 \nQ 24.75 6.390625 31.78125 6.390625 \nQ 38.8125 6.390625 42.859375 10.171875 \nQ 46.921875 13.96875 46.921875 20.515625 \nQ 46.921875 27.09375 42.890625 30.859375 \nQ 38.875 34.625 31.78125 34.625 \nz\nM 21.921875 38.8125 \nQ 15.578125 40.375 12.03125 44.71875 \nQ 8.5 49.078125 8.5 55.328125 \nQ 8.5 64.0625 14.71875 69.140625 \nQ 20.953125 74.21875 31.78125 74.21875 \nQ 42.671875 74.21875 48.875 69.140625 \nQ 55.078125 64.0625 55.078125 55.328125 \nQ 55.078125 49.078125 51.53125 44.71875 \nQ 48 40.375 41.703125 38.8125 \nQ 48.828125 37.15625 52.796875 32.3125 \nQ 56.78125 27.484375 56.78125 20.515625 \nQ 56.78125 9.90625 50.3125 4.234375 \nQ 43.84375 -1.421875 31.78125 -1.421875 \nQ 19.734375 -1.421875 13.25 4.234375 \nQ 6.78125 9.90625 6.78125 20.515625 \nQ 6.78125 27.484375 10.78125 32.3125 \nQ 14.796875 37.15625 21.921875 38.8125 \nz\nM 18.3125 54.390625 \nQ 18.3125 48.734375 21.84375 45.5625 \nQ 25.390625 42.390625 31.78125 42.390625 \nQ 38.140625 42.390625 41.71875 45.5625 \nQ 45.3125 48.734375 45.3125 54.390625 \nQ 45.3125 60.0625 41.71875 63.234375 \nQ 38.140625 66.40625 31.78125 66.40625 \nQ 25.390625 66.40625 21.84375 63.234375 \nQ 18.3125 60.0625 18.3125 54.390625 \nz\n\" id=\"DejaVuSans-56\"/>\n       </defs>\n       <use xlink:href=\"#DejaVuSans-48\"/>\n       <use x=\"63.623047\" xlink:href=\"#DejaVuSans-46\"/>\n       <use x=\"95.410156\" xlink:href=\"#DejaVuSans-56\"/>\n      </g>\n     </g>\n    </g>\n    <g id=\"xtick_5\">\n     <g id=\"line2d_5\">\n      <g>\n       <use style=\"stroke:#000000;stroke-width:0.8;\" x=\"364.427131\" xlink:href=\"#m2d5cde5acb\" y=\"224.64\"/>\n      </g>\n     </g>\n     <g id=\"text_5\">\n      <!-- 1.0 -->\n      <g transform=\"translate(356.475568 239.238437)scale(0.1 -0.1)\">\n       <defs>\n        <path d=\"M 12.40625 8.296875 \nL 28.515625 8.296875 \nL 28.515625 63.921875 \nL 10.984375 60.40625 \nL 10.984375 69.390625 \nL 28.421875 72.90625 \nL 38.28125 72.90625 \nL 38.28125 8.296875 \nL 54.390625 8.296875 \nL 54.390625 0 \nL 12.40625 0 \nz\n\" id=\"DejaVuSans-49\"/>\n       </defs>\n       <use xlink:href=\"#DejaVuSans-49\"/>\n       <use x=\"63.623047\" xlink:href=\"#DejaVuSans-46\"/>\n       <use x=\"95.410156\" xlink:href=\"#DejaVuSans-48\"/>\n      </g>\n     </g>\n    </g>\n   </g>\n   <g id=\"matplotlib.axis_2\">\n    <g id=\"ytick_1\">\n     <g id=\"line2d_6\">\n      <defs>\n       <path d=\"M 0 0 \nL -3.5 0 \n\" id=\"m9a804d1e64\" style=\"stroke:#000000;stroke-width:0.8;\"/>\n      </defs>\n      <g>\n       <use style=\"stroke:#000000;stroke-width:0.8;\" x=\"44.845313\" xlink:href=\"#m9a804d1e64\" y=\"214.756364\"/>\n      </g>\n     </g>\n     <g id=\"text_6\">\n      <!-- −1.00 -->\n      <g transform=\"translate(7.2 218.555582)scale(0.1 -0.1)\">\n       <defs>\n        <path d=\"M 10.59375 35.5 \nL 73.1875 35.5 \nL 73.1875 27.203125 \nL 10.59375 27.203125 \nz\n\" id=\"DejaVuSans-8722\"/>\n       </defs>\n       <use xlink:href=\"#DejaVuSans-8722\"/>\n       <use x=\"83.789062\" xlink:href=\"#DejaVuSans-49\"/>\n       <use x=\"147.412109\" xlink:href=\"#DejaVuSans-46\"/>\n       <use x=\"179.199219\" xlink:href=\"#DejaVuSans-48\"/>\n       <use x=\"242.822266\" xlink:href=\"#DejaVuSans-48\"/>\n      </g>\n     </g>\n    </g>\n    <g id=\"ytick_2\">\n     <g id=\"line2d_7\">\n      <g>\n       <use style=\"stroke:#000000;stroke-width:0.8;\" x=\"44.845313\" xlink:href=\"#m9a804d1e64\" y=\"190.047273\"/>\n      </g>\n     </g>\n     <g id=\"text_7\">\n      <!-- −0.75 -->\n      <g transform=\"translate(7.2 193.846491)scale(0.1 -0.1)\">\n       <defs>\n        <path d=\"M 8.203125 72.90625 \nL 55.078125 72.90625 \nL 55.078125 68.703125 \nL 28.609375 0 \nL 18.3125 0 \nL 43.21875 64.59375 \nL 8.203125 64.59375 \nz\n\" id=\"DejaVuSans-55\"/>\n        <path d=\"M 10.796875 72.90625 \nL 49.515625 72.90625 \nL 49.515625 64.59375 \nL 19.828125 64.59375 \nL 19.828125 46.734375 \nQ 21.96875 47.46875 24.109375 47.828125 \nQ 26.265625 48.1875 28.421875 48.1875 \nQ 40.625 48.1875 47.75 41.5 \nQ 54.890625 34.8125 54.890625 23.390625 \nQ 54.890625 11.625 47.5625 5.09375 \nQ 40.234375 -1.421875 26.90625 -1.421875 \nQ 22.3125 -1.421875 17.546875 -0.640625 \nQ 12.796875 0.140625 7.71875 1.703125 \nL 7.71875 11.625 \nQ 12.109375 9.234375 16.796875 8.0625 \nQ 21.484375 6.890625 26.703125 6.890625 \nQ 35.15625 6.890625 40.078125 11.328125 \nQ 45.015625 15.765625 45.015625 23.390625 \nQ 45.015625 31 40.078125 35.4375 \nQ 35.15625 39.890625 26.703125 39.890625 \nQ 22.75 39.890625 18.8125 39.015625 \nQ 14.890625 38.140625 10.796875 36.28125 \nz\n\" id=\"DejaVuSans-53\"/>\n       </defs>\n       <use xlink:href=\"#DejaVuSans-8722\"/>\n       <use x=\"83.789062\" xlink:href=\"#DejaVuSans-48\"/>\n       <use x=\"147.412109\" xlink:href=\"#DejaVuSans-46\"/>\n       <use x=\"179.199219\" xlink:href=\"#DejaVuSans-55\"/>\n       <use x=\"242.822266\" xlink:href=\"#DejaVuSans-53\"/>\n      </g>\n     </g>\n    </g>\n    <g id=\"ytick_3\">\n     <g id=\"line2d_8\">\n      <g>\n       <use style=\"stroke:#000000;stroke-width:0.8;\" x=\"44.845313\" xlink:href=\"#m9a804d1e64\" y=\"165.338182\"/>\n      </g>\n     </g>\n     <g id=\"text_8\">\n      <!-- −0.50 -->\n      <g transform=\"translate(7.2 169.137401)scale(0.1 -0.1)\">\n       <use xlink:href=\"#DejaVuSans-8722\"/>\n       <use x=\"83.789062\" xlink:href=\"#DejaVuSans-48\"/>\n       <use x=\"147.412109\" xlink:href=\"#DejaVuSans-46\"/>\n       <use x=\"179.199219\" xlink:href=\"#DejaVuSans-53\"/>\n       <use x=\"242.822266\" xlink:href=\"#DejaVuSans-48\"/>\n      </g>\n     </g>\n    </g>\n    <g id=\"ytick_4\">\n     <g id=\"line2d_9\">\n      <g>\n       <use style=\"stroke:#000000;stroke-width:0.8;\" x=\"44.845313\" xlink:href=\"#m9a804d1e64\" y=\"140.629091\"/>\n      </g>\n     </g>\n     <g id=\"text_9\">\n      <!-- −0.25 -->\n      <g transform=\"translate(7.2 144.42831)scale(0.1 -0.1)\">\n       <use xlink:href=\"#DejaVuSans-8722\"/>\n       <use x=\"83.789062\" xlink:href=\"#DejaVuSans-48\"/>\n       <use x=\"147.412109\" xlink:href=\"#DejaVuSans-46\"/>\n       <use x=\"179.199219\" xlink:href=\"#DejaVuSans-50\"/>\n       <use x=\"242.822266\" xlink:href=\"#DejaVuSans-53\"/>\n      </g>\n     </g>\n    </g>\n    <g id=\"ytick_5\">\n     <g id=\"line2d_10\">\n      <g>\n       <use style=\"stroke:#000000;stroke-width:0.8;\" x=\"44.845313\" xlink:href=\"#m9a804d1e64\" y=\"115.92\"/>\n      </g>\n     </g>\n     <g id=\"text_10\">\n      <!-- 0.00 -->\n      <g transform=\"translate(15.579688 119.719219)scale(0.1 -0.1)\">\n       <use xlink:href=\"#DejaVuSans-48\"/>\n       <use x=\"63.623047\" xlink:href=\"#DejaVuSans-46\"/>\n       <use x=\"95.410156\" xlink:href=\"#DejaVuSans-48\"/>\n       <use x=\"159.033203\" xlink:href=\"#DejaVuSans-48\"/>\n      </g>\n     </g>\n    </g>\n    <g id=\"ytick_6\">\n     <g id=\"line2d_11\">\n      <g>\n       <use style=\"stroke:#000000;stroke-width:0.8;\" x=\"44.845313\" xlink:href=\"#m9a804d1e64\" y=\"91.210909\"/>\n      </g>\n     </g>\n     <g id=\"text_11\">\n      <!-- 0.25 -->\n      <g transform=\"translate(15.579688 95.010128)scale(0.1 -0.1)\">\n       <use xlink:href=\"#DejaVuSans-48\"/>\n       <use x=\"63.623047\" xlink:href=\"#DejaVuSans-46\"/>\n       <use x=\"95.410156\" xlink:href=\"#DejaVuSans-50\"/>\n       <use x=\"159.033203\" xlink:href=\"#DejaVuSans-53\"/>\n      </g>\n     </g>\n    </g>\n    <g id=\"ytick_7\">\n     <g id=\"line2d_12\">\n      <g>\n       <use style=\"stroke:#000000;stroke-width:0.8;\" x=\"44.845313\" xlink:href=\"#m9a804d1e64\" y=\"66.501818\"/>\n      </g>\n     </g>\n     <g id=\"text_12\">\n      <!-- 0.50 -->\n      <g transform=\"translate(15.579688 70.301037)scale(0.1 -0.1)\">\n       <use xlink:href=\"#DejaVuSans-48\"/>\n       <use x=\"63.623047\" xlink:href=\"#DejaVuSans-46\"/>\n       <use x=\"95.410156\" xlink:href=\"#DejaVuSans-53\"/>\n       <use x=\"159.033203\" xlink:href=\"#DejaVuSans-48\"/>\n      </g>\n     </g>\n    </g>\n    <g id=\"ytick_8\">\n     <g id=\"line2d_13\">\n      <g>\n       <use style=\"stroke:#000000;stroke-width:0.8;\" x=\"44.845313\" xlink:href=\"#m9a804d1e64\" y=\"41.792727\"/>\n      </g>\n     </g>\n     <g id=\"text_13\">\n      <!-- 0.75 -->\n      <g transform=\"translate(15.579688 45.591946)scale(0.1 -0.1)\">\n       <use xlink:href=\"#DejaVuSans-48\"/>\n       <use x=\"63.623047\" xlink:href=\"#DejaVuSans-46\"/>\n       <use x=\"95.410156\" xlink:href=\"#DejaVuSans-55\"/>\n       <use x=\"159.033203\" xlink:href=\"#DejaVuSans-53\"/>\n      </g>\n     </g>\n    </g>\n    <g id=\"ytick_9\">\n     <g id=\"line2d_14\">\n      <g>\n       <use style=\"stroke:#000000;stroke-width:0.8;\" x=\"44.845313\" xlink:href=\"#m9a804d1e64\" y=\"17.083636\"/>\n      </g>\n     </g>\n     <g id=\"text_14\">\n      <!-- 1.00 -->\n      <g transform=\"translate(15.579688 20.882855)scale(0.1 -0.1)\">\n       <use xlink:href=\"#DejaVuSans-49\"/>\n       <use x=\"63.623047\" xlink:href=\"#DejaVuSans-46\"/>\n       <use x=\"95.410156\" xlink:href=\"#DejaVuSans-48\"/>\n       <use x=\"159.033203\" xlink:href=\"#DejaVuSans-48\"/>\n      </g>\n     </g>\n    </g>\n   </g>\n   <g id=\"patch_3\">\n    <path d=\"M 44.845313 224.64 \nL 44.845313 7.2 \n\" style=\"fill:none;stroke:#000000;stroke-linecap:square;stroke-linejoin:miter;stroke-width:0.8;\"/>\n   </g>\n   <g id=\"patch_4\">\n    <path d=\"M 379.645313 224.64 \nL 379.645313 7.2 \n\" style=\"fill:none;stroke:#000000;stroke-linecap:square;stroke-linejoin:miter;stroke-width:0.8;\"/>\n   </g>\n   <g id=\"patch_5\">\n    <path d=\"M 44.845313 224.64 \nL 379.645313 224.64 \n\" style=\"fill:none;stroke:#000000;stroke-linecap:square;stroke-linejoin:miter;stroke-width:0.8;\"/>\n   </g>\n   <g id=\"patch_6\">\n    <path d=\"M 44.845313 7.2 \nL 379.645313 7.2 \n\" style=\"fill:none;stroke:#000000;stroke-linecap:square;stroke-linejoin:miter;stroke-width:0.8;\"/>\n   </g>\n  </g>\n </g>\n <defs>\n  <clipPath id=\"p6365a255ea\">\n   <rect height=\"217.44\" width=\"334.8\" x=\"44.845313\" y=\"7.2\"/>\n  </clipPath>\n </defs>\n</svg>\n",
      "image/png": "[encoded data removed]"
     },
     "metadata": {
      "needs_background": "light"
     }
    }
   ],
   "metadata": {}
  },
  {
   "cell_type": "code",
   "execution_count": 40,
   "source": [
    "def xy_to_k(x, y) -> K:\n",
    "    return K(x) + i*K(y)\n",
    "\n",
    "def k_to_xy(dot: CC):\n",
    "    return (dot.real(), dot.imag())\n",
    "\n",
    "\n",
    "k_to_xy(4.04 + i*9.21)"
   ],
   "outputs": [
    {
     "output_type": "execute_result",
     "data": {
      "text/plain": [
       "(4.04000000000000, 9.21000000000000)"
      ]
     },
     "metadata": {},
     "execution_count": 40
    }
   ],
   "metadata": {}
  },
  {
   "cell_type": "code",
   "execution_count": 41,
   "source": [
    "xy_to_k(4.04, 9.21)"
   ],
   "outputs": [
    {
     "output_type": "execute_result",
     "data": {
      "text/plain": [
       "921/100*zeta28^7 + 101/25"
      ]
     },
     "metadata": {},
     "execution_count": 41
    }
   ],
   "metadata": {}
  },
  {
   "cell_type": "code",
   "execution_count": null,
   "source": [],
   "outputs": [],
   "metadata": {}
  }
 ]
}